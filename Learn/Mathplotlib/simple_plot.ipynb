{
 "cells": [
  {
   "cell_type": "markdown",
   "metadata": {},
   "source": [
    "#### command overview\n",
    "plot data on x and y axis, with color, mark for each value changes, name of the plot line**\n",
    "\n",
    "`plt.plot(x_axis_data, y_axis_data, color=\"hex_code_here\", mark='*' label='label_name') `\n",
    "\n",
    "\n",
    "#### show label of each plot (line)\n",
    "`plt.legend()`\n",
    "\n",
    "\n",
    "#### Show grid for the plot\n",
    "`plt.grid()`\n",
    "\n",
    "\n",
    "#### show plot styles\n",
    "`plt.style.available`\n",
    "\n",
    "`plt.style.use(\"style name\") # use a style`"
   ]
  },
  {
   "cell_type": "code",
   "execution_count": 60,
   "metadata": {
    "ExecuteTime": {
     "end_time": "2024-09-17T15:55:58.338218Z",
     "start_time": "2024-09-17T15:55:58.334221Z"
    }
   },
   "outputs": [],
   "source": [
    "from matplotlib import pyplot as plt # import pyplot from matplotlib"
   ]
  },
  {
   "cell_type": "code",
   "metadata": {
    "ExecuteTime": {
     "end_time": "2024-09-18T02:32:51.196578Z",
     "start_time": "2024-09-18T02:32:51.073465Z"
    }
   },
   "source": [
    "plt.style.use(\"seaborn-v0_8-notebook\") # set style to xkcd\n",
    "age_x = [25, 26, 27, 28, 29, 30, 31, 32, 33, 34, 35, 44, 50]\n",
    "\n",
    "# All Engineers Salary by Age\n",
    "eng_y = [60000, 62000, 64000, 66000, 68000, 70000, 72000, 74000, 76000, 78000, 80000, 90000, 100000]\n",
    "\n",
    "# Machine Learning Engineer Salary by Age\n",
    "ml_eng_y = [70000, 73000, 76000, 79000, 82000, 85000, 88000, 91000, 94000, 97000, 100000, 110000, 120000]\n",
    "\n",
    "# Aero Space Engineer Salary by Age\n",
    "as_eng_y = [65000, 67000, 69000, 71000, 73000, 75000, 77000, 79000, 81000, 83000, 85000, 95000, 105000]\n",
    "\n",
    "plt.plot(age_x, ml_eng_y, color='#123456',label='Machine Learning Engineer') \n",
    "plt.plot(age_x, as_eng_y,color='#986333', label='Aero Space Engineer')\n",
    "plt.plot(age_x, eng_y, color='#444444', linestyle='--',label='All Engineer') \n",
    "\n",
    "plt.xlabel(\"Age\")\n",
    "plt.ylabel(\"Income (USD)\")\n",
    "plt.title(\"Median Income (USD) by Age\")\n",
    "plt.legend() # Display labels for each line\n",
    "plt.tight_layout() # Adjust the padding\n",
    "plt.grid(True) # Display grid\n",
    "\n",
    "\n",
    "plt.show()"
   ],
   "outputs": [
    {
     "ename": "NameError",
     "evalue": "name 'plt' is not defined",
     "output_type": "error",
     "traceback": [
      "\u001B[1;31m---------------------------------------------------------------------------\u001B[0m",
      "\u001B[1;31mNameError\u001B[0m                                 Traceback (most recent call last)",
      "Cell \u001B[1;32mIn[2], line 1\u001B[0m\n\u001B[1;32m----> 1\u001B[0m \u001B[43mplt\u001B[49m\u001B[38;5;241m.\u001B[39mstyle\u001B[38;5;241m.\u001B[39muse(\u001B[38;5;124m\"\u001B[39m\u001B[38;5;124mseaborn-v0_8-notebook\u001B[39m\u001B[38;5;124m\"\u001B[39m) \u001B[38;5;66;03m# set style to xkcd\u001B[39;00m\n\u001B[0;32m      2\u001B[0m age_x \u001B[38;5;241m=\u001B[39m [\u001B[38;5;241m25\u001B[39m, \u001B[38;5;241m26\u001B[39m, \u001B[38;5;241m27\u001B[39m, \u001B[38;5;241m28\u001B[39m, \u001B[38;5;241m29\u001B[39m, \u001B[38;5;241m30\u001B[39m, \u001B[38;5;241m31\u001B[39m, \u001B[38;5;241m32\u001B[39m, \u001B[38;5;241m33\u001B[39m, \u001B[38;5;241m34\u001B[39m, \u001B[38;5;241m35\u001B[39m, \u001B[38;5;241m44\u001B[39m, \u001B[38;5;241m50\u001B[39m]\n\u001B[0;32m      4\u001B[0m \u001B[38;5;66;03m# All Engineers Salary by Age\u001B[39;00m\n",
      "\u001B[1;31mNameError\u001B[0m: name 'plt' is not defined"
     ]
    }
   ],
   "execution_count": 2
  },
  {
   "metadata": {},
   "cell_type": "code",
   "outputs": [],
   "execution_count": null,
   "source": ""
  }
 ],
 "metadata": {
  "kernelspec": {
   "display_name": "T",
   "language": "python",
   "name": "python3"
  },
  "language_info": {
   "codemirror_mode": {
    "name": "ipython",
    "version": 3
   },
   "file_extension": ".py",
   "mimetype": "text/x-python",
   "name": "python",
   "nbconvert_exporter": "python",
   "pygments_lexer": "ipython3",
   "version": "3.9.19"
  }
 },
 "nbformat": 4,
 "nbformat_minor": 2
}
