{
 "cells": [
  {
   "cell_type": "markdown",
   "id": "ad5d36a336626bfc",
   "metadata": {},
   "source": [
    "# Download Dataset"
   ]
  },
  {
   "cell_type": "code",
   "id": "initial_id",
   "metadata": {
    "collapsed": true
   },
   "source": "!Dataset URL: https://www.kaggl.com/datasets/akhatova/pcb-defects",
   "outputs": [],
   "execution_count": null
  },
  {
   "cell_type": "markdown",
   "id": "95ad4353f04306f6",
   "metadata": {},
   "source": [
    "# Convert XML to txt"
   ]
  },
  {
   "cell_type": "code",
   "id": "cebfc5619ad8915e",
   "metadata": {
    "ExecuteTime": {
     "end_time": "2024-09-01T15:51:32.942271Z",
     "start_time": "2024-09-01T15:51:32.094974Z"
    }
   },
   "source": [
    "# https://github.com/isabek/XmLToTxt    \n",
    "import os\n",
    "os.chdir(\"/Machine-Learning-2024/Project/Detect_Anomaly_In_PCB\") # make sure we at the root dir\n",
    "os.chdir(\"../Tools/XmlToTxt\") # Go to Tool folder\n",
    "os.getcwd()"
   ],
   "outputs": [
    {
     "ename": "FileNotFoundError",
     "evalue": "[WinError 3] The system cannot find the path specified: '/Machine-Learning-2024/Project/Detect_Anomaly_In_PCB'",
     "output_type": "error",
     "traceback": [
      "\u001B[1;31m---------------------------------------------------------------------------\u001B[0m",
      "\u001B[1;31mFileNotFoundError\u001B[0m                         Traceback (most recent call last)",
      "Cell \u001B[1;32mIn[1], line 3\u001B[0m\n\u001B[0;32m      1\u001B[0m \u001B[38;5;66;03m# https://github.com/isabek/XmLToTxt    \u001B[39;00m\n\u001B[0;32m      2\u001B[0m \u001B[38;5;28;01mimport\u001B[39;00m \u001B[38;5;21;01mos\u001B[39;00m\n\u001B[1;32m----> 3\u001B[0m \u001B[43mos\u001B[49m\u001B[38;5;241;43m.\u001B[39;49m\u001B[43mchdir\u001B[49m\u001B[43m(\u001B[49m\u001B[38;5;124;43m\"\u001B[39;49m\u001B[38;5;124;43m/Machine-Learning-2024/Project/Detect_Anomaly_In_PCB\u001B[39;49m\u001B[38;5;124;43m\"\u001B[39;49m\u001B[43m)\u001B[49m \u001B[38;5;66;03m# make sure we at the root dir\u001B[39;00m\n\u001B[0;32m      4\u001B[0m os\u001B[38;5;241m.\u001B[39mchdir(\u001B[38;5;124m\"\u001B[39m\u001B[38;5;124m../../../../Tools/XmlToTxt\u001B[39m\u001B[38;5;124m\"\u001B[39m) \u001B[38;5;66;03m# Go to Tool folder\u001B[39;00m\n\u001B[0;32m      5\u001B[0m os\u001B[38;5;241m.\u001B[39mgetcwd()\n",
      "\u001B[1;31mFileNotFoundError\u001B[0m: [WinError 3] The system cannot find the path specified: '/Machine-Learning-2024/Project/Detect_Anomaly_In_PCB'"
     ]
    }
   ],
   "execution_count": 1
  },
  {
   "metadata": {
    "ExecuteTime": {
     "end_time": "2024-09-01T15:09:10.782517Z",
     "start_time": "2024-09-01T15:09:06.906027Z"
    }
   },
   "cell_type": "code",
   "source": "!python -m pip install -r requirements.txt",
   "id": "a544c00f80ca8bd8",
   "outputs": [
    {
     "name": "stdout",
     "output_type": "stream",
     "text": [
      "Requirement already satisfied: declxml==0.9.1 in d:\\code\\ide\\anaconda\\envs\\t\\lib\\site-packages (from -r requirements.txt (line 1)) (0.9.1)\n"
     ]
    }
   ],
   "execution_count": 2
  },
  {
   "metadata": {
    "ExecuteTime": {
     "end_time": "2024-09-01T15:13:25.997838Z",
     "start_time": "2024-09-01T15:13:25.209430Z"
    }
   },
   "cell_type": "code",
   "source": [
    "# Put .xml file to \"xml\" folder > Run this command > Output .txt file will be in \"out\" folder \n",
    "!python xmltotxt.py -c classes.txt -xml xml -out out"
   ],
   "id": "b4115d811bcacf0f",
   "outputs": [],
   "execution_count": 14
  },
  {
   "metadata": {
    "ExecuteTime": {
     "end_time": "2024-09-01T15:23:28.132046Z",
     "start_time": "2024-09-01T15:23:28.100811Z"
    }
   },
   "cell_type": "code",
   "source": [
    "os.chdir(\"../../Machine-Learning-2024/Project/Anomaly Detection/Detect_Anomaly_In_PCB\")\n",
    "os.getcwd()"
   ],
   "id": "a3998c7a29efb67e",
   "outputs": [
    {
     "data": {
      "text/plain": [
       "'D:\\\\CODE\\\\ML_2024_2025\\\\Machine-Learning-2024\\\\Project\\\\Anomaly Detection\\\\Detect_Anomaly_In_PCB'"
      ]
     },
     "execution_count": 30,
     "metadata": {},
     "output_type": "execute_result"
    }
   ],
   "execution_count": 30
  },
  {
   "cell_type": "code",
   "id": "4c1350ecd6c675e",
   "metadata": {
    "ExecuteTime": {
     "end_time": "2024-09-01T15:19:47.153032Z",
     "start_time": "2024-09-01T15:19:47.121760Z"
    }
   },
   "source": [
    "from random import choice\n",
    "import shutil\n",
    "def to_v5_directories(images_train_path,images_val_path,labels_train_path,labels_val_path,dataset_source):\n",
    "    imgs = []\n",
    "    xmls = []\n",
    "    # trainPath = images_train_path \n",
    "    # valPath =  images_val_path\n",
    "    crsPath = dataset_source\n",
    "    train_ratio = 0.8\n",
    "    val_ratio = 0.2\n",
    "    totalImgCount = len(os.listdir(crsPath))/2\n",
    "    for (dirname, dirs, files) in os.walk(crsPath):\n",
    "        for filename in files:\n",
    "            if filename.endswith('.txt'):\n",
    "                xmls.append(filename)\n",
    "            else:\n",
    "                imgs.append(filename)\n",
    "    countForTrain = int(len(imgs)*train_ratio)\n",
    "    countForVal = int(len(imgs)*val_ratio)\n",
    "    trainImagePath = images_train_path\n",
    "    trainLabelPath = labels_train_path\n",
    "    valImagePath = images_val_path\n",
    "    valLabelPath = labels_val_path\n",
    "    for x in range(countForTrain):\n",
    "        fileJpg = choice(imgs)\n",
    "        fileXml = fileJpg[:-4] +'.txt'\n",
    "        shutil.copy(os.path.join(crsPath, fileJpg), os.path.join(trainImagePath, fileJpg))\n",
    "        shutil.copy(os.path.join(crsPath, fileXml), os.path.join(trainLabelPath, fileXml))\n",
    "        imgs.remove(fileJpg)\n",
    "        xmls.remove(fileXml)\n",
    "    for x in range(countForVal):\n",
    "        fileJpg = choice(imgs) \n",
    "        fileXml = fileJpg[:-4] +'.txt' \n",
    "        shutil.copy(os.path.join(crsPath, fileJpg), os.path.join(valImagePath, fileJpg))\n",
    "        shutil.copy(os.path.join(crsPath, fileXml), os.path.join(valLabelPath, fileXml))\n",
    "        imgs.remove(fileJpg)\n",
    "        xmls.remove(fileXml)\n",
    "    print(\"Training images are : \",countForTrain)\n",
    "    print(\"Validation images are : \",countForVal)\n",
    "#     shutil.move(crsPath, valPath)"
   ],
   "outputs": [],
   "execution_count": 15
  },
  {
   "cell_type": "markdown",
   "id": "4a64736573dd5963",
   "metadata": {},
   "source": [
    "# Split Dataset to Train and Validation\n",
    "This function will split the dataset into training and validation datasets for each Annotations Data (folder)"
   ]
  },
  {
   "metadata": {
    "ExecuteTime": {
     "end_time": "2024-09-01T15:32:48.064085Z",
     "start_time": "2024-09-01T15:32:48.033430Z"
    }
   },
   "cell_type": "code",
   "source": "dataset_dir = '../DataSet/PCB_DATASET/Annotations_txt'",
   "id": "b3ac0b2c66223fd3",
   "outputs": [
    {
     "name": "stdout",
     "output_type": "stream",
     "text": [
      "Current Working Directory: D:\\CODE\\ML_2024_2025\\Machine-Learning-2024\\Project\\Detect_Anomaly_In_PCB\n",
      "Changed Directory to: D:\\CODE\\ML_2024_2025\\DataSet\\PCB_DATASET\\Annotations_txt\n"
     ]
    }
   ],
   "execution_count": 59
  },
  {
   "cell_type": "code",
   "id": "4a4563da09fc6ed5",
   "metadata": {
    "ExecuteTime": {
     "end_time": "2024-09-01T15:38:49.242458Z",
     "start_time": "2024-09-01T15:38:49.201691Z"
    }
   },
   "source": [
    "def split_dataset(directory):\n",
    "    # os.listdir(directory) - returns a list of all files and folders in the directory\n",
    "    for name in os.listdir(directory):\n",
    "        # os.path.isdir(path) ret\n",
    "        # urns True if the path is a directory\n",
    "        if os.path.isdir(os.path.join(directory, name)):\n",
    "            print(f\"{name}\")\n",
    "            to_v5_directories(\"dataset-pcb/images/train\", \"dataset-pcb/images/val\", \"dataset-pcb/labels/train\", \"dataset-pcb/labels/val\", f\"{dataset_dir}/{directory}/{name}\")\n",
    "            print()\n",
    "        else:\n",
    "            print(\"Your directory path is not correct or not exist!\")\n",
    "\n",
    "split_dataset(\"PCB_DATASET/Annotations_txt\")"
   ],
   "outputs": [
    {
     "ename": "FileNotFoundError",
     "evalue": "[WinError 3] The system cannot find the path specified: 'PCB_DATASET/Annotations_txt'",
     "output_type": "error",
     "traceback": [
      "\u001B[1;31m---------------------------------------------------------------------------\u001B[0m",
      "\u001B[1;31mFileNotFoundError\u001B[0m                         Traceback (most recent call last)",
      "Cell \u001B[1;32mIn[61], line 13\u001B[0m\n\u001B[0;32m     10\u001B[0m         \u001B[38;5;28;01melse\u001B[39;00m:\n\u001B[0;32m     11\u001B[0m             \u001B[38;5;28mprint\u001B[39m(\u001B[38;5;124m\"\u001B[39m\u001B[38;5;124mYour directory path is not correct or not exist!\u001B[39m\u001B[38;5;124m\"\u001B[39m)\n\u001B[1;32m---> 13\u001B[0m \u001B[43msplit_dataset\u001B[49m\u001B[43m(\u001B[49m\u001B[38;5;124;43m\"\u001B[39;49m\u001B[38;5;124;43mPCB_DATASET/Annotations_txt\u001B[39;49m\u001B[38;5;124;43m\"\u001B[39;49m\u001B[43m)\u001B[49m\n",
      "Cell \u001B[1;32mIn[61], line 3\u001B[0m, in \u001B[0;36msplit_dataset\u001B[1;34m(directory)\u001B[0m\n\u001B[0;32m      1\u001B[0m \u001B[38;5;28;01mdef\u001B[39;00m \u001B[38;5;21msplit_dataset\u001B[39m(directory):\n\u001B[0;32m      2\u001B[0m     \u001B[38;5;66;03m# os.listdir(directory) - returns a list of all files and folders in the directory\u001B[39;00m\n\u001B[1;32m----> 3\u001B[0m     \u001B[38;5;28;01mfor\u001B[39;00m name \u001B[38;5;129;01min\u001B[39;00m \u001B[43mos\u001B[49m\u001B[38;5;241;43m.\u001B[39;49m\u001B[43mlistdir\u001B[49m\u001B[43m(\u001B[49m\u001B[43mdirectory\u001B[49m\u001B[43m)\u001B[49m:\n\u001B[0;32m      4\u001B[0m         \u001B[38;5;66;03m# os.path.isdir(path) ret\u001B[39;00m\n\u001B[0;32m      5\u001B[0m         \u001B[38;5;66;03m# urns True if the path is a directory\u001B[39;00m\n\u001B[0;32m      6\u001B[0m         \u001B[38;5;28;01mif\u001B[39;00m os\u001B[38;5;241m.\u001B[39mpath\u001B[38;5;241m.\u001B[39misdir(os\u001B[38;5;241m.\u001B[39mpath\u001B[38;5;241m.\u001B[39mjoin(directory, name)):\n\u001B[0;32m      7\u001B[0m             \u001B[38;5;28mprint\u001B[39m(\u001B[38;5;124mf\u001B[39m\u001B[38;5;124m\"\u001B[39m\u001B[38;5;132;01m{\u001B[39;00mname\u001B[38;5;132;01m}\u001B[39;00m\u001B[38;5;124m\"\u001B[39m)\n",
      "\u001B[1;31mFileNotFoundError\u001B[0m: [WinError 3] The system cannot find the path specified: 'PCB_DATASET/Annotations_txt'"
     ]
    }
   ],
   "execution_count": 61
  },
  {
   "cell_type": "markdown",
   "id": "1cf0eebe5a8d5af9",
   "metadata": {},
   "source": [
    "# Training"
   ]
  },
  {
   "cell_type": "code",
   "id": "67475451c1d4a58f",
   "metadata": {
    "ExecuteTime": {
     "end_time": "2024-09-01T02:37:48.168663Z",
     "start_time": "2024-09-01T02:37:48.160664Z"
    }
   },
   "source": [
    "# !git clone https://github.com/ultralytics/yolov5.git # Download YOLOv5\n",
    "# os.chdir(\"S:\\ML_2024_2025\\CMC_ML\\Detect_Anomaly_In_PCB\") # connect file path\n",
    "# os.getcwd()"
   ],
   "outputs": [
    {
     "data": {
      "text/plain": [
       "'S:\\\\ML_2024_2025\\\\CMC_ML\\\\Detect_Anomaly_In_PCB'"
      ]
     },
     "execution_count": 10,
     "metadata": {},
     "output_type": "execute_result"
    }
   ],
   "execution_count": 10
  },
  {
   "cell_type": "code",
   "id": "b3073a5262ee40f9",
   "metadata": {
    "ExecuteTime": {
     "end_time": "2024-09-01T02:37:51.606663Z",
     "start_time": "2024-09-01T02:37:51.594653Z"
    }
   },
   "source": [
    "import os\n",
    "os.chdir(\"yolov5\") # connect file path\n",
    "import os\n",
    "os.getcwd()"
   ],
   "outputs": [
    {
     "data": {
      "text/plain": [
       "'S:\\\\ML_2024_2025\\\\CMC_ML\\\\Detect_Anomaly_In_PCB\\\\yolov5'"
      ]
     },
     "execution_count": 11,
     "metadata": {},
     "output_type": "execute_result"
    }
   ],
   "execution_count": 11
  },
  {
   "cell_type": "code",
   "id": "279609768f631a7a",
   "metadata": {
    "ExecuteTime": {
     "end_time": "2024-09-01T02:37:53.553652Z",
     "start_time": "2024-09-01T02:37:53.533658Z"
    }
   },
   "source": [
    "!pip install requests==2.31.0\n",
    "!pip install imageio --upgrade\n",
    "!pip install imageio --upgrade\n",
    "!pip check"
   ],
   "outputs": [],
   "execution_count": 12
  },
  {
   "cell_type": "code",
   "id": "dcca7d4c0e417e6e",
   "metadata": {
    "ExecuteTime": {
     "end_time": "2024-09-01T02:39:49.924749Z",
     "start_time": "2024-09-01T02:37:53.811655Z"
    }
   },
   "source": [
    "!python train.py --img 416 --batch 16 --epochs 50 --data dataset.yaml --weights yolov5s.pt --cache --name pcb_1st"
   ],
   "outputs": [
    {
     "name": "stdout",
     "output_type": "stream",
     "text": [
      "Collecting ultralytics\n",
      "  Downloading ultralytics-8.2.85-py3-none-any.whl.metadata (41 kB)\n",
      "Collecting numpy<2.0.0,>=1.23.0 (from ultralytics)\n",
      "  Downloading numpy-1.26.4-cp310-cp310-win_amd64.whl.metadata (61 kB)\n",
      "Requirement already satisfied: matplotlib>=3.3.0 in d:\\code\\ide\\anaconda\\envs\\opencv\\lib\\site-packages (from ultralytics) (3.9.2)\n",
      "Requirement already satisfied: opencv-python>=4.6.0 in d:\\code\\ide\\anaconda\\envs\\opencv\\lib\\site-packages (from ultralytics) (4.10.0.84)\n",
      "Requirement already satisfied: pillow>=7.1.2 in d:\\code\\ide\\anaconda\\envs\\opencv\\lib\\site-packages (from ultralytics) (10.4.0)\n",
      "Requirement already satisfied: pyyaml>=5.3.1 in d:\\code\\ide\\anaconda\\envs\\opencv\\lib\\site-packages (from ultralytics) (6.0.2)\n",
      "Requirement already satisfied: requests>=2.23.0 in d:\\code\\ide\\anaconda\\envs\\opencv\\lib\\site-packages (from ultralytics) (2.32.3)\n",
      "Requirement already satisfied: scipy>=1.4.1 in d:\\code\\ide\\anaconda\\envs\\opencv\\lib\\site-packages (from ultralytics) (1.14.1)\n",
      "Requirement already satisfied: torch>=1.8.0 in d:\\code\\ide\\anaconda\\envs\\opencv\\lib\\site-packages (from ultralytics) (2.4.0)\n",
      "Collecting torchvision>=0.9.0 (from ultralytics)\n",
      "  Downloading torchvision-0.19.0-1-cp310-cp310-win_amd64.whl.metadata (6.1 kB)\n",
      "Requirement already satisfied: tqdm>=4.64.0 in d:\\code\\ide\\anaconda\\envs\\opencv\\lib\\site-packages (from ultralytics) (4.66.5)\n",
      "Requirement already satisfied: psutil in d:\\code\\ide\\anaconda\\envs\\opencv\\lib\\site-packages (from ultralytics) (6.0.0)\n",
      "Collecting py-cpuinfo (from ultralytics)\n",
      "  Downloading py_cpuinfo-9.0.0-py3-none-any.whl.metadata (794 bytes)\n",
      "Requirement already satisfied: pandas>=1.1.4 in d:\\code\\ide\\anaconda\\envs\\opencv\\lib\\site-packages (from ultralytics) (2.2.2)\n",
      "Requirement already satisfied: seaborn>=0.11.0 in d:\\code\\ide\\anaconda\\envs\\opencv\\lib\\site-packages (from ultralytics) (0.13.2)\n",
      "Collecting ultralytics-thop>=2.0.0 (from ultralytics)\n",
      "  Downloading ultralytics_thop-2.0.6-py3-none-any.whl.metadata (9.1 kB)\n",
      "Requirement already satisfied: contourpy>=1.0.1 in d:\\code\\ide\\anaconda\\envs\\opencv\\lib\\site-packages (from matplotlib>=3.3.0->ultralytics) (1.3.0)\n",
      "Requirement already satisfied: cycler>=0.10 in d:\\code\\ide\\anaconda\\envs\\opencv\\lib\\site-packages (from matplotlib>=3.3.0->ultralytics) (0.12.1)\n",
      "Requirement already satisfied: fonttools>=4.22.0 in d:\\code\\ide\\anaconda\\envs\\opencv\\lib\\site-packages (from matplotlib>=3.3.0->ultralytics) (4.53.1)\n",
      "Requirement already satisfied: kiwisolver>=1.3.1 in d:\\code\\ide\\anaconda\\envs\\opencv\\lib\\site-packages (from matplotlib>=3.3.0->ultralytics) (1.4.5)\n",
      "Requirement already satisfied: packaging>=20.0 in d:\\code\\ide\\anaconda\\envs\\opencv\\lib\\site-packages (from matplotlib>=3.3.0->ultralytics) (24.1)\n",
      "Requirement already satisfied: pyparsing>=2.3.1 in d:\\code\\ide\\anaconda\\envs\\opencv\\lib\\site-packages (from matplotlib>=3.3.0->ultralytics) (3.1.4)\n",
      "Requirement already satisfied: python-dateutil>=2.7 in d:\\code\\ide\\anaconda\\envs\\opencv\\lib\\site-packages (from matplotlib>=3.3.0->ultralytics) (2.9.0.post0)\n",
      "Requirement already satisfied: pytz>=2020.1 in d:\\code\\ide\\anaconda\\envs\\opencv\\lib\\site-packages (from pandas>=1.1.4->ultralytics) (2024.1)\n",
      "Requirement already satisfied: tzdata>=2022.7 in d:\\code\\ide\\anaconda\\envs\\opencv\\lib\\site-packages (from pandas>=1.1.4->ultralytics) (2024.1)\n",
      "Requirement already satisfied: charset-normalizer<4,>=2 in d:\\code\\ide\\anaconda\\envs\\opencv\\lib\\site-packages (from requests>=2.23.0->ultralytics) (3.3.2)\n",
      "Requirement already satisfied: idna<4,>=2.5 in d:\\code\\ide\\anaconda\\envs\\opencv\\lib\\site-packages (from requests>=2.23.0->ultralytics) (3.8)\n",
      "Requirement already satisfied: urllib3<3,>=1.21.1 in d:\\code\\ide\\anaconda\\envs\\opencv\\lib\\site-packages (from requests>=2.23.0->ultralytics) (2.2.2)\n",
      "Requirement already satisfied: certifi>=2017.4.17 in d:\\code\\ide\\anaconda\\envs\\opencv\\lib\\site-packages (from requests>=2.23.0->ultralytics) (2024.8.30)\n",
      "Requirement already satisfied: filelock in d:\\code\\ide\\anaconda\\envs\\opencv\\lib\\site-packages (from torch>=1.8.0->ultralytics) (3.15.4)\n",
      "Requirement already satisfied: typing-extensions>=4.8.0 in d:\\code\\ide\\anaconda\\envs\\opencv\\lib\\site-packages (from torch>=1.8.0->ultralytics) (4.12.2)\n",
      "Requirement already satisfied: sympy in d:\\code\\ide\\anaconda\\envs\\opencv\\lib\\site-packages (from torch>=1.8.0->ultralytics) (1.13.2)\n",
      "Requirement already satisfied: networkx in d:\\code\\ide\\anaconda\\envs\\opencv\\lib\\site-packages (from torch>=1.8.0->ultralytics) (3.3)\n",
      "Requirement already satisfied: jinja2 in d:\\code\\ide\\anaconda\\envs\\opencv\\lib\\site-packages (from torch>=1.8.0->ultralytics) (3.1.4)\n",
      "Requirement already satisfied: fsspec in d:\\code\\ide\\anaconda\\envs\\opencv\\lib\\site-packages (from torch>=1.8.0->ultralytics) (2024.6.1)\n",
      "Requirement already satisfied: colorama in d:\\code\\ide\\anaconda\\envs\\opencv\\lib\\site-packages (from tqdm>=4.64.0->ultralytics) (0.4.6)\n",
      "Requirement already satisfied: six>=1.5 in d:\\code\\ide\\anaconda\\envs\\opencv\\lib\\site-packages (from python-dateutil>=2.7->matplotlib>=3.3.0->ultralytics) (1.16.0)\n",
      "Requirement already satisfied: MarkupSafe>=2.0 in d:\\code\\ide\\anaconda\\envs\\opencv\\lib\\site-packages (from jinja2->torch>=1.8.0->ultralytics) (2.1.5)\n",
      "Requirement already satisfied: mpmath<1.4,>=1.1.0 in d:\\code\\ide\\anaconda\\envs\\opencv\\lib\\site-packages (from sympy->torch>=1.8.0->ultralytics) (1.3.0)\n",
      "Downloading ultralytics-8.2.85-py3-none-any.whl (872 kB)\n",
      "   ---------------------------------------- 0.0/872.3 kB ? eta -:--:--\n",
      "   ------------ --------------------------- 262.1/872.3 kB ? eta -:--:--\n",
      "   ---------------------------------------- 872.3/872.3 kB 2.8 MB/s eta 0:00:00\n",
      "Downloading numpy-1.26.4-cp310-cp310-win_amd64.whl (15.8 MB)\n",
      "   ---------------------------------------- 0.0/15.8 MB ? eta -:--:--\n",
      "   - -------------------------------------- 0.8/15.8 MB 4.8 MB/s eta 0:00:04\n",
      "   --- ------------------------------------ 1.6/15.8 MB 4.0 MB/s eta 0:00:04\n",
      "   ------ --------------------------------- 2.6/15.8 MB 4.2 MB/s eta 0:00:04\n",
      "   -------- ------------------------------- 3.4/15.8 MB 4.4 MB/s eta 0:00:03\n",
      "   ----------- ---------------------------- 4.5/15.8 MB 4.4 MB/s eta 0:00:03\n",
      "   ------------- -------------------------- 5.5/15.8 MB 4.5 MB/s eta 0:00:03\n",
      "   --------------- ------------------------ 6.3/15.8 MB 4.4 MB/s eta 0:00:03\n",
      "   ------------------ --------------------- 7.3/15.8 MB 4.4 MB/s eta 0:00:02\n",
      "   ------------------- -------------------- 7.9/15.8 MB 4.3 MB/s eta 0:00:02\n",
      "   ---------------------- ----------------- 8.9/15.8 MB 4.4 MB/s eta 0:00:02\n",
      "   ------------------------- -------------- 10.0/15.8 MB 4.4 MB/s eta 0:00:02\n",
      "   --------------------------- ------------ 10.7/15.8 MB 4.4 MB/s eta 0:00:02\n",
      "   ----------------------------- ---------- 11.8/15.8 MB 4.4 MB/s eta 0:00:01\n",
      "   ------------------------------- -------- 12.6/15.8 MB 4.4 MB/s eta 0:00:01\n",
      "   --------------------------------- ------ 13.1/15.8 MB 4.4 MB/s eta 0:00:01\n",
      "   ---------------------------------- ----- 13.6/15.8 MB 4.2 MB/s eta 0:00:01\n",
      "   -------------------------------------- - 15.2/15.8 MB 4.4 MB/s eta 0:00:01\n",
      "   ---------------------------------------- 15.8/15.8 MB 4.4 MB/s eta 0:00:00\n",
      "Downloading torchvision-0.19.0-1-cp310-cp310-win_amd64.whl (1.3 MB)\n",
      "   ---------------------------------------- 0.0/1.3 MB ? eta -:--:--\n",
      "   ------------------------ --------------- 0.8/1.3 MB 5.6 MB/s eta 0:00:01\n",
      "   ---------------------------------------- 1.3/1.3 MB 4.1 MB/s eta 0:00:00\n",
      "Downloading ultralytics_thop-2.0.6-py3-none-any.whl (26 kB)\n",
      "Downloading py_cpuinfo-9.0.0-py3-none-any.whl (22 kB)\n",
      "Installing collected packages: py-cpuinfo, numpy, ultralytics-thop, torchvision, ultralytics\n",
      "  Attempting uninstall: numpy\n",
      "    Found existing installation: numpy 2.1.0\n",
      "    Uninstalling numpy-2.1.0:\n",
      "      Successfully uninstalled numpy-2.1.0\n",
      "Successfully installed numpy-1.26.4 py-cpuinfo-9.0.0 torchvision-0.19.0 ultralytics-8.2.85 ultralytics-thop-2.0.6\n",
      "WARNING âš ï¸� Ultralytics settings reset to default values. This may be due to a possible problem with your settings or a recent ultralytics package update. \n",
      "View settings with 'yolo settings' or at 'C:\\Users\\boboi\\AppData\\Roaming\\Ultralytics\\settings.yaml'\n",
      "Update settings with 'yolo settings key=value', i.e. 'yolo settings runs_dir=path/to/dir'. For help see https://docs.ultralytics.com/quickstart/#ultralytics-settings.\n"
     ]
    },
    {
     "name": "stderr",
     "output_type": "stream",
     "text": [
      "\n",
      "A module that was compiled using NumPy 1.x cannot be run in\n",
      "NumPy 2.1.0 as it may crash. To support both 1.x and 2.x\n",
      "versions of NumPy, modules must be compiled with NumPy 2.0.\n",
      "Some module may need to rebuild instead e.g. with 'pybind11>=2.12'.\n",
      "\n",
      "If you are a user of the module, the easiest solution will be to\n",
      "downgrade to 'numpy<2' or try to upgrade the affected module.\n",
      "We expect that some modules will need time to support NumPy 2.\n",
      "\n",
      "Traceback (most recent call last):  File \"S:\\ML_2024_2025\\CMC_ML\\Detect_Anomaly_In_PCB\\yolov5\\train.py\", line 34, in <module>\n",
      "    import torch\n",
      "  File \"D:\\CODE\\IDE\\Anaconda\\envs\\opencv\\lib\\site-packages\\torch\\__init__.py\", line 2120, in <module>\n",
      "    from torch._higher_order_ops import cond\n",
      "  File \"D:\\CODE\\IDE\\Anaconda\\envs\\opencv\\lib\\site-packages\\torch\\_higher_order_ops\\__init__.py\", line 1, in <module>\n",
      "    from .cond import cond\n",
      "  File \"D:\\CODE\\IDE\\Anaconda\\envs\\opencv\\lib\\site-packages\\torch\\_higher_order_ops\\cond.py\", line 5, in <module>\n",
      "    import torch._subclasses.functional_tensor\n",
      "  File \"D:\\CODE\\IDE\\Anaconda\\envs\\opencv\\lib\\site-packages\\torch\\_subclasses\\functional_tensor.py\", line 42, in <module>\n",
      "    class FunctionalTensor(torch.Tensor):\n",
      "  File \"D:\\CODE\\IDE\\Anaconda\\envs\\opencv\\lib\\site-packages\\torch\\_subclasses\\functional_tensor.py\", line 258, in FunctionalTensor\n",
      "    cpu = _conversion_method_template(device=torch.device(\"cpu\"))\n",
      "D:\\CODE\\IDE\\Anaconda\\envs\\opencv\\lib\\site-packages\\torch\\_subclasses\\functional_tensor.py:258: UserWarning: Failed to initialize NumPy: _ARRAY_API not found (Triggered internally at C:\\actions-runner\\_work\\pytorch\\pytorch\\builder\\windows\\pytorch\\torch\\csrc\\utils\\tensor_numpy.cpp:84.)\n",
      "  cpu = _conversion_method_template(device=torch.device(\"cpu\"))\n",
      "  WARNING: Failed to remove contents in a temporary directory 'D:\\CODE\\IDE\\Anaconda\\envs\\opencv\\Lib\\site-packages\\~umpy.libs'.\n",
      "  You can safely remove it manually.\n",
      "  WARNING: Failed to remove contents in a temporary directory 'D:\\CODE\\IDE\\Anaconda\\envs\\opencv\\Lib\\site-packages\\~umpy'.\n",
      "  You can safely remove it manually.\n",
      "\n",
      "A module that was compiled using NumPy 1.x cannot be run in\n",
      "NumPy 2.1.0 as it may crash. To support both 1.x and 2.x\n",
      "versions of NumPy, modules must be compiled with NumPy 2.0.\n",
      "Some module may need to rebuild instead e.g. with 'pybind11>=2.12'.\n",
      "\n",
      "If you are a user of the module, the easiest solution will be to\n",
      "downgrade to 'numpy<2' or try to upgrade the affected module.\n",
      "We expect that some modules will need time to support NumPy 2.\n",
      "\n",
      "Traceback (most recent call last):  File \"S:\\ML_2024_2025\\CMC_ML\\Detect_Anomaly_In_PCB\\yolov5\\train.py\", line 47, in <module>\n",
      "    import val as validate  # for end-of-epoch mAP\n",
      "  File \"S:\\ML_2024_2025\\CMC_ML\\Detect_Anomaly_In_PCB\\yolov5\\val.py\", line 39, in <module>\n",
      "    from models.common import DetectMultiBackend\n",
      "  File \"S:\\ML_2024_2025\\CMC_ML\\Detect_Anomaly_In_PCB\\yolov5\\models\\common.py\", line 39, in <module>\n",
      "    from utils.dataloaders import exif_transpose, letterbox\n",
      "  File \"S:\\ML_2024_2025\\CMC_ML\\Detect_Anomaly_In_PCB\\yolov5\\utils\\dataloaders.py\", line 23, in <module>\n",
      "    import torchvision\n",
      "  File \"D:\\CODE\\IDE\\Anaconda\\envs\\opencv\\lib\\site-packages\\torchvision\\__init__.py\", line 10, in <module>\n",
      "    from torchvision import _meta_registrations, datasets, io, models, ops, transforms, utils  # usort:skip\n",
      "  File \"D:\\CODE\\IDE\\Anaconda\\envs\\opencv\\lib\\site-packages\\torchvision\\models\\__init__.py\", line 2, in <module>\n",
      "    from .convnext import *\n",
      "  File \"D:\\CODE\\IDE\\Anaconda\\envs\\opencv\\lib\\site-packages\\torchvision\\models\\convnext.py\", line 8, in <module>\n",
      "    from ..ops.misc import Conv2dNormActivation, Permute\n",
      "  File \"D:\\CODE\\IDE\\Anaconda\\envs\\opencv\\lib\\site-packages\\torchvision\\ops\\__init__.py\", line 23, in <module>\n",
      "    from .poolers import MultiScaleRoIAlign\n",
      "  File \"D:\\CODE\\IDE\\Anaconda\\envs\\opencv\\lib\\site-packages\\torchvision\\ops\\poolers.py\", line 10, in <module>\n",
      "    from .roi_align import roi_align\n",
      "  File \"D:\\CODE\\IDE\\Anaconda\\envs\\opencv\\lib\\site-packages\\torchvision\\ops\\roi_align.py\", line 7, in <module>\n",
      "    from torch._dynamo.utils import is_compile_supported\n",
      "  File \"D:\\CODE\\IDE\\Anaconda\\envs\\opencv\\lib\\site-packages\\torch\\_dynamo\\__init__.py\", line 2, in <module>\n",
      "    from . import convert_frame, eval_frame, resume_execution\n",
      "  File \"D:\\CODE\\IDE\\Anaconda\\envs\\opencv\\lib\\site-packages\\torch\\_dynamo\\convert_frame.py\", line 48, in <module>\n",
      "    from . import config, exc, trace_rules\n",
      "  File \"D:\\CODE\\IDE\\Anaconda\\envs\\opencv\\lib\\site-packages\\torch\\_dynamo\\exc.py\", line 12, in <module>\n",
      "    from .utils import counters\n",
      "  File \"D:\\CODE\\IDE\\Anaconda\\envs\\opencv\\lib\\site-packages\\torch\\_dynamo\\utils.py\", line 69, in <module>\n",
      "    np.fft,\n",
      "  File \"D:\\CODE\\IDE\\Anaconda\\envs\\opencv\\lib\\site-packages\\numpy\\__init__.py\", line 348, in __getattr__\n",
      "    \"{!r}\".format(__name__, attr))\n",
      "  File \"D:\\CODE\\IDE\\Anaconda\\envs\\opencv\\lib\\site-packages\\numpy\\fft\\__init__.py\", line 203, in <module>\n",
      "    from . import _pocketfft, helper\n",
      "  File \"D:\\CODE\\IDE\\Anaconda\\envs\\opencv\\lib\\site-packages\\numpy\\fft\\_pocketfft.py\", line 36, in <module>\n",
      "    from . import _pocketfft_internal as pfi\n",
      "Traceback (most recent call last):\n",
      "  File \"D:\\CODE\\IDE\\Anaconda\\envs\\opencv\\lib\\site-packages\\numpy\\core\\_multiarray_umath.py\", line 44, in __getattr__\n",
      "ImportError: \n",
      "A module that was compiled using NumPy 1.x cannot be run in\n",
      "NumPy 2.1.0 as it may crash. To support both 1.x and 2.x\n",
      "versions of NumPy, modules must be compiled with NumPy 2.0.\n",
      "Some module may need to rebuild instead e.g. with 'pybind11>=2.12'.\n",
      "\n",
      "If you are a user of the module, the easiest solution will be to\n",
      "downgrade to 'numpy<2' or try to upgrade the affected module.\n",
      "We expect that some modules will need time to support NumPy 2.\n",
      "\n",
      "\n",
      "Traceback (most recent call last):\n",
      "  File \"S:\\ML_2024_2025\\CMC_ML\\Detect_Anomaly_In_PCB\\yolov5\\train.py\", line 47, in <module>\n",
      "    import val as validate  # for end-of-epoch mAP\n",
      "  File \"S:\\ML_2024_2025\\CMC_ML\\Detect_Anomaly_In_PCB\\yolov5\\val.py\", line 39, in <module>\n",
      "    from models.common import DetectMultiBackend\n",
      "  File \"S:\\ML_2024_2025\\CMC_ML\\Detect_Anomaly_In_PCB\\yolov5\\models\\common.py\", line 39, in <module>\n",
      "    from utils.dataloaders import exif_transpose, letterbox\n",
      "  File \"S:\\ML_2024_2025\\CMC_ML\\Detect_Anomaly_In_PCB\\yolov5\\utils\\dataloaders.py\", line 23, in <module>\n",
      "    import torchvision\n",
      "  File \"D:\\CODE\\IDE\\Anaconda\\envs\\opencv\\lib\\site-packages\\torchvision\\__init__.py\", line 10, in <module>\n",
      "    from torchvision import _meta_registrations, datasets, io, models, ops, transforms, utils  # usort:skip\n",
      "  File \"D:\\CODE\\IDE\\Anaconda\\envs\\opencv\\lib\\site-packages\\torchvision\\models\\__init__.py\", line 2, in <module>\n",
      "    from .convnext import *\n",
      "  File \"D:\\CODE\\IDE\\Anaconda\\envs\\opencv\\lib\\site-packages\\torchvision\\models\\convnext.py\", line 8, in <module>\n",
      "    from ..ops.misc import Conv2dNormActivation, Permute\n",
      "  File \"D:\\CODE\\IDE\\Anaconda\\envs\\opencv\\lib\\site-packages\\torchvision\\ops\\__init__.py\", line 23, in <module>\n",
      "    from .poolers import MultiScaleRoIAlign\n",
      "  File \"D:\\CODE\\IDE\\Anaconda\\envs\\opencv\\lib\\site-packages\\torchvision\\ops\\poolers.py\", line 10, in <module>\n",
      "    from .roi_align import roi_align\n",
      "  File \"D:\\CODE\\IDE\\Anaconda\\envs\\opencv\\lib\\site-packages\\torchvision\\ops\\roi_align.py\", line 7, in <module>\n",
      "    from torch._dynamo.utils import is_compile_supported\n",
      "  File \"D:\\CODE\\IDE\\Anaconda\\envs\\opencv\\lib\\site-packages\\torch\\_dynamo\\__init__.py\", line 2, in <module>\n",
      "    from . import convert_frame, eval_frame, resume_execution\n",
      "  File \"D:\\CODE\\IDE\\Anaconda\\envs\\opencv\\lib\\site-packages\\torch\\_dynamo\\convert_frame.py\", line 48, in <module>\n",
      "    from . import config, exc, trace_rules\n",
      "  File \"D:\\CODE\\IDE\\Anaconda\\envs\\opencv\\lib\\site-packages\\torch\\_dynamo\\trace_rules.py\", line 50, in <module>\n",
      "    from .utils import getfile, hashable, NP_SUPPORTED_MODULES, unwrap_if_wrapper\n",
      "ImportError: cannot import name 'NP_SUPPORTED_MODULES' from 'torch._dynamo.utils' (D:\\CODE\\IDE\\Anaconda\\envs\\opencv\\lib\\site-packages\\torch\\_dynamo\\utils.py)\n"
     ]
    }
   ],
   "execution_count": 13
  },
  {
   "cell_type": "markdown",
   "id": "4fc60d1ffc035a35",
   "metadata": {},
   "source": [
    "# Validation"
   ]
  },
  {
   "cell_type": "code",
   "id": "a55b62dddb3f2c69",
   "metadata": {
    "ExecuteTime": {
     "end_time": "2024-09-01T02:39:51.555526Z",
     "start_time": "2024-09-01T02:39:49.927750Z"
    }
   },
   "source": [
    "#! Zip Result File (remember to change directory to yolov5)\n",
    "import shutil\n",
    "\n",
    "# Define the directory to be zipped and the output file name\n",
    "directory_to_zip = 'runs'  # replace with your directory\n",
    "output_filename = '../datasets-run/runs-pcb.zip'  # replace with your output file name\n",
    "\n",
    "# Create a zip archive\n",
    "shutil.make_archive(output_filename, 'zip', directory_to_zip)"
   ],
   "outputs": [
    {
     "data": {
      "text/plain": [
       "'S:\\\\ML_2024_2025\\\\CMC_ML\\\\Detect_Anomaly_In_PCB\\\\datasets-run\\\\runs-pcb.zip.zip'"
      ]
     },
     "execution_count": 14,
     "metadata": {},
     "output_type": "execute_result"
    }
   ],
   "execution_count": 14
  },
  {
   "cell_type": "markdown",
   "id": "bd3fa76a305ed7f3",
   "metadata": {},
   "source": []
  },
  {
   "cell_type": "code",
   "id": "fa24fdddd23c66a3",
   "metadata": {
    "ExecuteTime": {
     "end_time": "2024-09-01T02:41:41.697980Z",
     "start_time": "2024-09-01T02:39:51.557531Z"
    }
   },
   "source": [
    "# Validate dataset using the best weight file\n",
    "!python val.py --weights runs/train/pcb_1st/weights/best.pt --data dataset.yaml "
   ],
   "outputs": [
    {
     "name": "stdout",
     "output_type": "stream",
     "text": [
      "\u001B[31m\u001B[1mrequirements:\u001B[0m Ultralytics requirement ['gitpython>=3.1.30'] not found, attempting AutoUpdate...\n",
      "Collecting gitpython>=3.1.30\n",
      "\n",
      "  Downloading GitPython-3.1.43-py3-none-any.whl.metadata (13 kB)\n",
      "\n",
      "Collecting gitdb<5,>=4.0.1 (from gitpython>=3.1.30)\n",
      "\n",
      "  Downloading gitdb-4.0.11-py3-none-any.whl.metadata (1.2 kB)\n",
      "\n",
      "Collecting smmap<6,>=3.0.1 (from gitdb<5,>=4.0.1->gitpython>=3.1.30)\n",
      "\n",
      "  Downloading smmap-5.0.1-py3-none-any.whl.metadata (4.3 kB)\n",
      "\n",
      "Downloading GitPython-3.1.43-py3-none-any.whl (207 kB)\n",
      "\n",
      "Downloading gitdb-4.0.11-py3-none-any.whl (62 kB)\n",
      "\n",
      "Downloading smmap-5.0.1-py3-none-any.whl (24 kB)\n",
      "\n",
      "Installing collected packages: smmap, gitdb, gitpython\n",
      "\n",
      "Successfully installed gitdb-4.0.11 gitpython-3.1.43 smmap-5.0.1\n",
      "\n",
      "\n",
      "\u001B[31m\u001B[1mrequirements:\u001B[0m AutoUpdate success âœ… 100.1s, installed 1 package: ['gitpython>=3.1.30']\n",
      "\u001B[31m\u001B[1mrequirements:\u001B[0m âš ï¸� \u001B[1mRestart runtime or rerun command for updates to take effect\u001B[0m\n",
      "\n"
     ]
    },
    {
     "name": "stderr",
     "output_type": "stream",
     "text": [
      "\u001B[34m\u001B[1mval: \u001B[0mdata=dataset.yaml, weights=['runs/train/pcb_1st/weights/best.pt'], batch_size=32, imgsz=640, conf_thres=0.001, iou_thres=0.6, max_det=300, task=val, device=, workers=8, single_cls=False, augment=False, verbose=False, save_txt=False, save_hybrid=False, save_conf=False, save_json=False, project=runs\\val, name=exp, exist_ok=False, half=False, dnn=False\n",
      "YOLOv5  v7.0-319-gc3803265 Python-3.10.14 torch-2.4.0+cpu CPU\n",
      "\n",
      "Traceback (most recent call last):\n",
      "  File \"S:\\ML_2024_2025\\CMC_ML\\Detect_Anomaly_In_PCB\\yolov5\\val.py\", line 438, in <module>\n",
      "    main(opt)\n",
      "  File \"S:\\ML_2024_2025\\CMC_ML\\Detect_Anomaly_In_PCB\\yolov5\\val.py\", line 409, in main\n",
      "    run(**vars(opt))\n",
      "  File \"D:\\CODE\\IDE\\Anaconda\\envs\\opencv\\lib\\site-packages\\torch\\utils\\_contextlib.py\", line 116, in decorate_context\n",
      "    return func(*args, **kwargs)\n",
      "  File \"S:\\ML_2024_2025\\CMC_ML\\Detect_Anomaly_In_PCB\\yolov5\\val.py\", line 165, in run\n",
      "    model = DetectMultiBackend(weights, device=device, dnn=dnn, data=data, fp16=half)\n",
      "  File \"S:\\ML_2024_2025\\CMC_ML\\Detect_Anomaly_In_PCB\\yolov5\\models\\common.py\", line 467, in __init__\n",
      "    model = attempt_load(weights if isinstance(weights, list) else w, device=device, inplace=True, fuse=fuse)\n",
      "  File \"S:\\ML_2024_2025\\CMC_ML\\Detect_Anomaly_In_PCB\\yolov5\\models\\experimental.py\", line 98, in attempt_load\n",
      "    ckpt = torch.load(attempt_download(w), map_location=\"cpu\")  # load\n",
      "  File \"D:\\CODE\\IDE\\Anaconda\\envs\\opencv\\lib\\site-packages\\ultralytics\\utils\\patches.py\", line 86, in torch_load\n",
      "    return _torch_load(*args, **kwargs)\n",
      "  File \"D:\\CODE\\IDE\\Anaconda\\envs\\opencv\\lib\\site-packages\\torch\\serialization.py\", line 1097, in load\n",
      "    return _load(\n",
      "  File \"D:\\CODE\\IDE\\Anaconda\\envs\\opencv\\lib\\site-packages\\torch\\serialization.py\", line 1525, in _load\n",
      "    result = unpickler.load()\n",
      "  File \"D:\\CODE\\IDE\\Anaconda\\envs\\opencv\\lib\\site-packages\\torch\\serialization.py\", line 1515, in find_class\n",
      "    return super().find_class(mod_name, name)\n",
      "ModuleNotFoundError: No module named 'dill'\n"
     ]
    }
   ],
   "execution_count": 15
  },
  {
   "cell_type": "code",
   "id": "bb75a06b8d2763be",
   "metadata": {
    "ExecuteTime": {
     "end_time": "2024-09-01T02:41:51.081753Z",
     "start_time": "2024-09-01T02:41:41.700987Z"
    }
   },
   "source": [
    "# Validate test dataset from test_images using the last weight file\n",
    "!python detect.py --source ../test_images/test_1.jpg  --weights runs/train/pcb_1st/weights/best.ptw"
   ],
   "outputs": [
    {
     "name": "stderr",
     "output_type": "stream",
     "text": [
      "\u001B[34m\u001B[1mdetect: \u001B[0mweights=['runs/train/pcb_1st/weights/best.ptw'], source=../test_images/test_1.jpg, data=data\\coco128.yaml, imgsz=[640, 640], conf_thres=0.25, iou_thres=0.45, max_det=1000, device=, view_img=False, save_txt=False, save_csv=False, save_conf=False, save_crop=False, nosave=False, classes=None, agnostic_nms=False, augment=False, visualize=False, update=False, project=runs\\detect, name=exp, exist_ok=False, line_thickness=3, hide_labels=False, hide_conf=False, half=False, dnn=False, vid_stride=1\n",
      "YOLOv5  v7.0-319-gc3803265 Python-3.10.14 torch-2.4.0+cpu CPU\n",
      "\n",
      "Traceback (most recent call last):\n",
      "  File \"S:\\ML_2024_2025\\CMC_ML\\Detect_Anomaly_In_PCB\\yolov5\\detect.py\", line 312, in <module>\n",
      "    main(opt)\n",
      "  File \"S:\\ML_2024_2025\\CMC_ML\\Detect_Anomaly_In_PCB\\yolov5\\detect.py\", line 307, in main\n",
      "    run(**vars(opt))\n",
      "  File \"D:\\CODE\\IDE\\Anaconda\\envs\\opencv\\lib\\site-packages\\torch\\utils\\_contextlib.py\", line 116, in decorate_context\n",
      "    return func(*args, **kwargs)\n",
      "  File \"S:\\ML_2024_2025\\CMC_ML\\Detect_Anomaly_In_PCB\\yolov5\\detect.py\", line 115, in run\n",
      "    model = DetectMultiBackend(weights, device=device, dnn=dnn, data=data, fp16=half)\n",
      "  File \"S:\\ML_2024_2025\\CMC_ML\\Detect_Anomaly_In_PCB\\yolov5\\models\\common.py\", line 458, in __init__\n",
      "    pt, jit, onnx, xml, engine, coreml, saved_model, pb, tflite, edgetpu, tfjs, paddle, triton = self._model_type(w)\n",
      "  File \"S:\\ML_2024_2025\\CMC_ML\\Detect_Anomaly_In_PCB\\yolov5\\models\\common.py\", line 764, in _model_type\n",
      "    check_suffix(p, sf)  # checks\n",
      "  File \"S:\\ML_2024_2025\\CMC_ML\\Detect_Anomaly_In_PCB\\yolov5\\utils\\general.py\", line 471, in check_suffix\n",
      "    assert s in suffix, f\"{msg}{f} acceptable suffix is {suffix}\"\n",
      "AssertionError: runs/train/pcb_1st/weights/best.ptw acceptable suffix is ['.pt', '.torchscript', '.onnx', '_openvino_model', '.engine', '.mlmodel', '_saved_model', '.pb', '.tflite', '_edgetpu.tflite', '_web_model', '_paddle_model']\n"
     ]
    }
   ],
   "execution_count": 16
  },
  {
   "cell_type": "code",
   "id": "fa0b3758f9ae6910",
   "metadata": {},
   "source": [],
   "outputs": [],
   "execution_count": null
  }
 ],
 "metadata": {
  "kernelspec": {
   "display_name": "Python 3",
   "language": "python",
   "name": "python3"
  },
  "language_info": {
   "codemirror_mode": {
    "name": "ipython",
    "version": 2
   },
   "file_extension": ".py",
   "mimetype": "text/x-python",
   "name": "python",
   "nbconvert_exporter": "python",
   "pygments_lexer": "ipython2",
   "version": "3.11.9"
  }
 },
 "nbformat": 4,
 "nbformat_minor": 5
}
